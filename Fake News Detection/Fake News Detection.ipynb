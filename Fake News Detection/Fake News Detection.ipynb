{
 "cells": [
  {
   "cell_type": "markdown",
   "id": "33edabdf",
   "metadata": {},
   "source": [
    "# FAKE NEWS DETECTION"
   ]
  },
  {
   "cell_type": "code",
   "execution_count": 1,
   "id": "5842d600",
   "metadata": {},
   "outputs": [],
   "source": [
    "import numpy as np\n",
    "import pandas as pd\n",
    "import matplotlib.pyplot as plt\n",
    "import seaborn as sns"
   ]
  },
  {
   "cell_type": "code",
   "execution_count": 2,
   "id": "b59ba955",
   "metadata": {},
   "outputs": [],
   "source": [
    "# NLP libraries to clean the text data\n",
    "from nltk.corpus import stopwords\n",
    "from nltk.stem.porter import PorterStemmer\n",
    "import re"
   ]
  },
  {
   "cell_type": "code",
   "execution_count": 3,
   "id": "faf069da",
   "metadata": {},
   "outputs": [],
   "source": [
    "# Vectorization technique TF-IDF\n",
    "from sklearn.feature_extraction.text import TfidfVectorizer"
   ]
  },
  {
   "cell_type": "code",
   "execution_count": 4,
   "id": "83dd0654",
   "metadata": {},
   "outputs": [],
   "source": [
    "# For Splitting the dataset\n",
    "from sklearn.model_selection import train_test_split"
   ]
  },
  {
   "cell_type": "code",
   "execution_count": 5,
   "id": "3b38497c",
   "metadata": {},
   "outputs": [],
   "source": [
    "# Model libraries\n",
    "from sklearn.linear_model import LogisticRegression\n",
    "from sklearn.svm import SVC\n",
    "from sklearn.ensemble import RandomForestClassifier"
   ]
  },
  {
   "cell_type": "code",
   "execution_count": 6,
   "id": "c423c1e7",
   "metadata": {},
   "outputs": [],
   "source": [
    "#Accuracy measuring library\n",
    "from sklearn.metrics import accuracy_score"
   ]
  },
  {
   "cell_type": "markdown",
   "id": "867dfdce",
   "metadata": {},
   "source": [
    "# Loading Data"
   ]
  },
  {
   "cell_type": "code",
   "execution_count": 7,
   "id": "733eae59",
   "metadata": {},
   "outputs": [],
   "source": [
    "data = pd.read_csv('data .csv')"
   ]
  },
  {
   "cell_type": "code",
   "execution_count": 8,
   "id": "77205c45",
   "metadata": {
    "scrolled": false
   },
   "outputs": [
    {
     "data": {
      "text/html": [
       "<div>\n",
       "<style scoped>\n",
       "    .dataframe tbody tr th:only-of-type {\n",
       "        vertical-align: middle;\n",
       "    }\n",
       "\n",
       "    .dataframe tbody tr th {\n",
       "        vertical-align: top;\n",
       "    }\n",
       "\n",
       "    .dataframe thead th {\n",
       "        text-align: right;\n",
       "    }\n",
       "</style>\n",
       "<table border=\"1\" class=\"dataframe\">\n",
       "  <thead>\n",
       "    <tr style=\"text-align: right;\">\n",
       "      <th></th>\n",
       "      <th>URLs</th>\n",
       "      <th>Headline</th>\n",
       "      <th>Body</th>\n",
       "      <th>Label</th>\n",
       "    </tr>\n",
       "  </thead>\n",
       "  <tbody>\n",
       "    <tr>\n",
       "      <th>0</th>\n",
       "      <td>http://www.bbc.com/news/world-us-canada-414191...</td>\n",
       "      <td>Four ways Bob Corker skewered Donald Trump</td>\n",
       "      <td>Image copyright Getty Images\\nOn Sunday mornin...</td>\n",
       "      <td>1</td>\n",
       "    </tr>\n",
       "    <tr>\n",
       "      <th>1</th>\n",
       "      <td>https://www.reuters.com/article/us-filmfestiva...</td>\n",
       "      <td>Linklater's war veteran comedy speaks to moder...</td>\n",
       "      <td>LONDON (Reuters) - “Last Flag Flying”, a comed...</td>\n",
       "      <td>1</td>\n",
       "    </tr>\n",
       "    <tr>\n",
       "      <th>2</th>\n",
       "      <td>https://www.nytimes.com/2017/10/09/us/politics...</td>\n",
       "      <td>Trump’s Fight With Corker Jeopardizes His Legi...</td>\n",
       "      <td>The feud broke into public view last week when...</td>\n",
       "      <td>1</td>\n",
       "    </tr>\n",
       "    <tr>\n",
       "      <th>3</th>\n",
       "      <td>https://www.reuters.com/article/us-mexico-oil-...</td>\n",
       "      <td>Egypt's Cheiron wins tie-up with Pemex for Mex...</td>\n",
       "      <td>MEXICO CITY (Reuters) - Egypt’s Cheiron Holdin...</td>\n",
       "      <td>1</td>\n",
       "    </tr>\n",
       "    <tr>\n",
       "      <th>4</th>\n",
       "      <td>http://www.cnn.com/videos/cnnmoney/2017/10/08/...</td>\n",
       "      <td>Jason Aldean opens 'SNL' with Vegas tribute</td>\n",
       "      <td>Country singer Jason Aldean, who was performin...</td>\n",
       "      <td>1</td>\n",
       "    </tr>\n",
       "  </tbody>\n",
       "</table>\n",
       "</div>"
      ],
      "text/plain": [
       "                                                URLs  \\\n",
       "0  http://www.bbc.com/news/world-us-canada-414191...   \n",
       "1  https://www.reuters.com/article/us-filmfestiva...   \n",
       "2  https://www.nytimes.com/2017/10/09/us/politics...   \n",
       "3  https://www.reuters.com/article/us-mexico-oil-...   \n",
       "4  http://www.cnn.com/videos/cnnmoney/2017/10/08/...   \n",
       "\n",
       "                                            Headline  \\\n",
       "0         Four ways Bob Corker skewered Donald Trump   \n",
       "1  Linklater's war veteran comedy speaks to moder...   \n",
       "2  Trump’s Fight With Corker Jeopardizes His Legi...   \n",
       "3  Egypt's Cheiron wins tie-up with Pemex for Mex...   \n",
       "4        Jason Aldean opens 'SNL' with Vegas tribute   \n",
       "\n",
       "                                                Body  Label  \n",
       "0  Image copyright Getty Images\\nOn Sunday mornin...      1  \n",
       "1  LONDON (Reuters) - “Last Flag Flying”, a comed...      1  \n",
       "2  The feud broke into public view last week when...      1  \n",
       "3  MEXICO CITY (Reuters) - Egypt’s Cheiron Holdin...      1  \n",
       "4  Country singer Jason Aldean, who was performin...      1  "
      ]
     },
     "execution_count": 8,
     "metadata": {},
     "output_type": "execute_result"
    }
   ],
   "source": [
    "data.head()"
   ]
  },
  {
   "cell_type": "markdown",
   "id": "fc93f934",
   "metadata": {},
   "source": [
    "# EDA"
   ]
  },
  {
   "cell_type": "code",
   "execution_count": 9,
   "id": "bb8a44c8",
   "metadata": {},
   "outputs": [
    {
     "data": {
      "text/plain": [
       "(4009, 4)"
      ]
     },
     "execution_count": 9,
     "metadata": {},
     "output_type": "execute_result"
    }
   ],
   "source": [
    "data.shape"
   ]
  },
  {
   "cell_type": "code",
   "execution_count": 10,
   "id": "4471a3e3",
   "metadata": {},
   "outputs": [
    {
     "data": {
      "text/plain": [
       "Index(['URLs', 'Headline', 'Body', 'Label'], dtype='object')"
      ]
     },
     "execution_count": 10,
     "metadata": {},
     "output_type": "execute_result"
    }
   ],
   "source": [
    "data.columns"
   ]
  },
  {
   "cell_type": "markdown",
   "id": "437176f5",
   "metadata": {},
   "source": [
    "1. URLs: This column contains the URLs of the news articles. It provides the source information and allows researchers to analyze the credibility of different news sources.\n",
    "2. Headline: The headline column contains the titles or summaries of the news articles. Headlines are often the first piece of information readers encounter, making them crucial for detecting potential misinformation.\n",
    "3. Body: The body column contains the main text or content of the news articles. It includes the full articles or relevant excerpts, providing ample textual data for analysis.\n",
    "4. Label: The label column indicates the classification or ground truth of each article. It assigns a binary value (e.g., 1 for real news and 0 for fake news) to indicate whether the article is genuine or deceptive. This column serves as the target variable for training and evaluating fake news detection models."
   ]
  },
  {
   "cell_type": "code",
   "execution_count": 11,
   "id": "8ec5fbd2",
   "metadata": {},
   "outputs": [
    {
     "name": "stdout",
     "output_type": "stream",
     "text": [
      "<class 'pandas.core.frame.DataFrame'>\n",
      "RangeIndex: 4009 entries, 0 to 4008\n",
      "Data columns (total 4 columns):\n",
      " #   Column    Non-Null Count  Dtype \n",
      "---  ------    --------------  ----- \n",
      " 0   URLs      4009 non-null   object\n",
      " 1   Headline  4009 non-null   object\n",
      " 2   Body      3988 non-null   object\n",
      " 3   Label     4009 non-null   int64 \n",
      "dtypes: int64(1), object(3)\n",
      "memory usage: 125.4+ KB\n"
     ]
    }
   ],
   "source": [
    "data.info()"
   ]
  },
  {
   "cell_type": "code",
   "execution_count": 12,
   "id": "07979c21",
   "metadata": {},
   "outputs": [
    {
     "data": {
      "text/plain": [
       "URLs         0\n",
       "Headline     0\n",
       "Body        21\n",
       "Label        0\n",
       "dtype: int64"
      ]
     },
     "execution_count": 12,
     "metadata": {},
     "output_type": "execute_result"
    }
   ],
   "source": [
    "data.isna().sum()"
   ]
  },
  {
   "cell_type": "code",
   "execution_count": 13,
   "id": "292c7d94",
   "metadata": {},
   "outputs": [],
   "source": [
    "# Handling null values by replacing with '' \n",
    "\n",
    "data['Body'] = data['Body'].fillna('')"
   ]
  },
  {
   "cell_type": "code",
   "execution_count": 14,
   "id": "06eed128",
   "metadata": {},
   "outputs": [
    {
     "data": {
      "text/plain": [
       "URLs        0\n",
       "Headline    0\n",
       "Body        0\n",
       "Label       0\n",
       "dtype: int64"
      ]
     },
     "execution_count": 14,
     "metadata": {},
     "output_type": "execute_result"
    }
   ],
   "source": [
    "data.isnull().sum()"
   ]
  },
  {
   "cell_type": "code",
   "execution_count": 15,
   "id": "ca18f695",
   "metadata": {},
   "outputs": [],
   "source": [
    "data['News'] = data['Headline'] + \" \" + data['Body']"
   ]
  },
  {
   "cell_type": "code",
   "execution_count": 16,
   "id": "203ba55d",
   "metadata": {},
   "outputs": [
    {
     "data": {
      "text/html": [
       "<div>\n",
       "<style scoped>\n",
       "    .dataframe tbody tr th:only-of-type {\n",
       "        vertical-align: middle;\n",
       "    }\n",
       "\n",
       "    .dataframe tbody tr th {\n",
       "        vertical-align: top;\n",
       "    }\n",
       "\n",
       "    .dataframe thead th {\n",
       "        text-align: right;\n",
       "    }\n",
       "</style>\n",
       "<table border=\"1\" class=\"dataframe\">\n",
       "  <thead>\n",
       "    <tr style=\"text-align: right;\">\n",
       "      <th></th>\n",
       "      <th>URLs</th>\n",
       "      <th>Headline</th>\n",
       "      <th>Body</th>\n",
       "      <th>Label</th>\n",
       "      <th>News</th>\n",
       "    </tr>\n",
       "  </thead>\n",
       "  <tbody>\n",
       "    <tr>\n",
       "      <th>0</th>\n",
       "      <td>http://www.bbc.com/news/world-us-canada-414191...</td>\n",
       "      <td>Four ways Bob Corker skewered Donald Trump</td>\n",
       "      <td>Image copyright Getty Images\\nOn Sunday mornin...</td>\n",
       "      <td>1</td>\n",
       "      <td>Four ways Bob Corker skewered Donald Trump Ima...</td>\n",
       "    </tr>\n",
       "    <tr>\n",
       "      <th>1</th>\n",
       "      <td>https://www.reuters.com/article/us-filmfestiva...</td>\n",
       "      <td>Linklater's war veteran comedy speaks to moder...</td>\n",
       "      <td>LONDON (Reuters) - “Last Flag Flying”, a comed...</td>\n",
       "      <td>1</td>\n",
       "      <td>Linklater's war veteran comedy speaks to moder...</td>\n",
       "    </tr>\n",
       "    <tr>\n",
       "      <th>2</th>\n",
       "      <td>https://www.nytimes.com/2017/10/09/us/politics...</td>\n",
       "      <td>Trump’s Fight With Corker Jeopardizes His Legi...</td>\n",
       "      <td>The feud broke into public view last week when...</td>\n",
       "      <td>1</td>\n",
       "      <td>Trump’s Fight With Corker Jeopardizes His Legi...</td>\n",
       "    </tr>\n",
       "    <tr>\n",
       "      <th>3</th>\n",
       "      <td>https://www.reuters.com/article/us-mexico-oil-...</td>\n",
       "      <td>Egypt's Cheiron wins tie-up with Pemex for Mex...</td>\n",
       "      <td>MEXICO CITY (Reuters) - Egypt’s Cheiron Holdin...</td>\n",
       "      <td>1</td>\n",
       "      <td>Egypt's Cheiron wins tie-up with Pemex for Mex...</td>\n",
       "    </tr>\n",
       "    <tr>\n",
       "      <th>4</th>\n",
       "      <td>http://www.cnn.com/videos/cnnmoney/2017/10/08/...</td>\n",
       "      <td>Jason Aldean opens 'SNL' with Vegas tribute</td>\n",
       "      <td>Country singer Jason Aldean, who was performin...</td>\n",
       "      <td>1</td>\n",
       "      <td>Jason Aldean opens 'SNL' with Vegas tribute Co...</td>\n",
       "    </tr>\n",
       "  </tbody>\n",
       "</table>\n",
       "</div>"
      ],
      "text/plain": [
       "                                                URLs  \\\n",
       "0  http://www.bbc.com/news/world-us-canada-414191...   \n",
       "1  https://www.reuters.com/article/us-filmfestiva...   \n",
       "2  https://www.nytimes.com/2017/10/09/us/politics...   \n",
       "3  https://www.reuters.com/article/us-mexico-oil-...   \n",
       "4  http://www.cnn.com/videos/cnnmoney/2017/10/08/...   \n",
       "\n",
       "                                            Headline  \\\n",
       "0         Four ways Bob Corker skewered Donald Trump   \n",
       "1  Linklater's war veteran comedy speaks to moder...   \n",
       "2  Trump’s Fight With Corker Jeopardizes His Legi...   \n",
       "3  Egypt's Cheiron wins tie-up with Pemex for Mex...   \n",
       "4        Jason Aldean opens 'SNL' with Vegas tribute   \n",
       "\n",
       "                                                Body  Label  \\\n",
       "0  Image copyright Getty Images\\nOn Sunday mornin...      1   \n",
       "1  LONDON (Reuters) - “Last Flag Flying”, a comed...      1   \n",
       "2  The feud broke into public view last week when...      1   \n",
       "3  MEXICO CITY (Reuters) - Egypt’s Cheiron Holdin...      1   \n",
       "4  Country singer Jason Aldean, who was performin...      1   \n",
       "\n",
       "                                                News  \n",
       "0  Four ways Bob Corker skewered Donald Trump Ima...  \n",
       "1  Linklater's war veteran comedy speaks to moder...  \n",
       "2  Trump’s Fight With Corker Jeopardizes His Legi...  \n",
       "3  Egypt's Cheiron wins tie-up with Pemex for Mex...  \n",
       "4  Jason Aldean opens 'SNL' with Vegas tribute Co...  "
      ]
     },
     "execution_count": 16,
     "metadata": {},
     "output_type": "execute_result"
    }
   ],
   "source": [
    "data.head()"
   ]
  },
  {
   "cell_type": "code",
   "execution_count": 17,
   "id": "3cb082a7",
   "metadata": {},
   "outputs": [
    {
     "data": {
      "text/plain": [
       "Index(['URLs', 'Headline', 'Body', 'Label', 'News'], dtype='object')"
      ]
     },
     "execution_count": 17,
     "metadata": {},
     "output_type": "execute_result"
    }
   ],
   "source": [
    "data.columns"
   ]
  },
  {
   "cell_type": "code",
   "execution_count": 18,
   "id": "82307da0",
   "metadata": {},
   "outputs": [],
   "source": [
    "features_dropped = ['URLs','Headline', 'Body']\n",
    "data = data.drop(features_dropped, axis = 1)"
   ]
  },
  {
   "cell_type": "code",
   "execution_count": 19,
   "id": "68bcbfe7",
   "metadata": {},
   "outputs": [
    {
     "data": {
      "text/plain": [
       "Index(['Label', 'News'], dtype='object')"
      ]
     },
     "execution_count": 19,
     "metadata": {},
     "output_type": "execute_result"
    }
   ],
   "source": [
    "data.columns"
   ]
  },
  {
   "cell_type": "code",
   "execution_count": 20,
   "id": "d2f2710d",
   "metadata": {},
   "outputs": [
    {
     "data": {
      "text/html": [
       "<div>\n",
       "<style scoped>\n",
       "    .dataframe tbody tr th:only-of-type {\n",
       "        vertical-align: middle;\n",
       "    }\n",
       "\n",
       "    .dataframe tbody tr th {\n",
       "        vertical-align: top;\n",
       "    }\n",
       "\n",
       "    .dataframe thead th {\n",
       "        text-align: right;\n",
       "    }\n",
       "</style>\n",
       "<table border=\"1\" class=\"dataframe\">\n",
       "  <thead>\n",
       "    <tr style=\"text-align: right;\">\n",
       "      <th></th>\n",
       "      <th>Label</th>\n",
       "      <th>News</th>\n",
       "    </tr>\n",
       "  </thead>\n",
       "  <tbody>\n",
       "    <tr>\n",
       "      <th>0</th>\n",
       "      <td>1</td>\n",
       "      <td>Four ways Bob Corker skewered Donald Trump Ima...</td>\n",
       "    </tr>\n",
       "    <tr>\n",
       "      <th>1</th>\n",
       "      <td>1</td>\n",
       "      <td>Linklater's war veteran comedy speaks to moder...</td>\n",
       "    </tr>\n",
       "    <tr>\n",
       "      <th>2</th>\n",
       "      <td>1</td>\n",
       "      <td>Trump’s Fight With Corker Jeopardizes His Legi...</td>\n",
       "    </tr>\n",
       "    <tr>\n",
       "      <th>3</th>\n",
       "      <td>1</td>\n",
       "      <td>Egypt's Cheiron wins tie-up with Pemex for Mex...</td>\n",
       "    </tr>\n",
       "    <tr>\n",
       "      <th>4</th>\n",
       "      <td>1</td>\n",
       "      <td>Jason Aldean opens 'SNL' with Vegas tribute Co...</td>\n",
       "    </tr>\n",
       "  </tbody>\n",
       "</table>\n",
       "</div>"
      ],
      "text/plain": [
       "   Label                                               News\n",
       "0      1  Four ways Bob Corker skewered Donald Trump Ima...\n",
       "1      1  Linklater's war veteran comedy speaks to moder...\n",
       "2      1  Trump’s Fight With Corker Jeopardizes His Legi...\n",
       "3      1  Egypt's Cheiron wins tie-up with Pemex for Mex...\n",
       "4      1  Jason Aldean opens 'SNL' with Vegas tribute Co..."
      ]
     },
     "execution_count": 20,
     "metadata": {},
     "output_type": "execute_result"
    }
   ],
   "source": [
    "data.head()"
   ]
  },
  {
   "cell_type": "markdown",
   "id": "1be9b3cd",
   "metadata": {},
   "source": [
    "### Preprocessing"
   ]
  },
  {
   "cell_type": "code",
   "execution_count": 21,
   "id": "60ae9a78",
   "metadata": {},
   "outputs": [],
   "source": [
    "ps = PorterStemmer()\n",
    "\n",
    "def wordopt(text):\n",
    "    text = re.sub('[^a-zA-Z]', ' ', text)\n",
    "    text = text.lower()\n",
    "    text = text.split() \n",
    "    text = [ps.stem(word) for word in text if not word in stopwords.words('english')] \n",
    "    text = ' '.join(text) \n",
    "    return text"
   ]
  },
  {
   "cell_type": "code",
   "execution_count": 22,
   "id": "a17e656c",
   "metadata": {},
   "outputs": [],
   "source": [
    "data['News'] = data['News'].apply(wordopt)"
   ]
  },
  {
   "cell_type": "code",
   "execution_count": 23,
   "id": "995b8c95",
   "metadata": {},
   "outputs": [
    {
     "data": {
      "text/html": [
       "<div>\n",
       "<style scoped>\n",
       "    .dataframe tbody tr th:only-of-type {\n",
       "        vertical-align: middle;\n",
       "    }\n",
       "\n",
       "    .dataframe tbody tr th {\n",
       "        vertical-align: top;\n",
       "    }\n",
       "\n",
       "    .dataframe thead th {\n",
       "        text-align: right;\n",
       "    }\n",
       "</style>\n",
       "<table border=\"1\" class=\"dataframe\">\n",
       "  <thead>\n",
       "    <tr style=\"text-align: right;\">\n",
       "      <th></th>\n",
       "      <th>Label</th>\n",
       "      <th>News</th>\n",
       "    </tr>\n",
       "  </thead>\n",
       "  <tbody>\n",
       "    <tr>\n",
       "      <th>0</th>\n",
       "      <td>1</td>\n",
       "      <td>four way bob corker skewer donald trump imag c...</td>\n",
       "    </tr>\n",
       "    <tr>\n",
       "      <th>1</th>\n",
       "      <td>1</td>\n",
       "      <td>linklat war veteran comedi speak modern americ...</td>\n",
       "    </tr>\n",
       "    <tr>\n",
       "      <th>2</th>\n",
       "      <td>1</td>\n",
       "      <td>trump fight corker jeopard legisl agenda feud ...</td>\n",
       "    </tr>\n",
       "    <tr>\n",
       "      <th>3</th>\n",
       "      <td>1</td>\n",
       "      <td>egypt cheiron win tie pemex mexican onshor oil...</td>\n",
       "    </tr>\n",
       "    <tr>\n",
       "      <th>4</th>\n",
       "      <td>1</td>\n",
       "      <td>jason aldean open snl vega tribut countri sing...</td>\n",
       "    </tr>\n",
       "  </tbody>\n",
       "</table>\n",
       "</div>"
      ],
      "text/plain": [
       "   Label                                               News\n",
       "0      1  four way bob corker skewer donald trump imag c...\n",
       "1      1  linklat war veteran comedi speak modern americ...\n",
       "2      1  trump fight corker jeopard legisl agenda feud ...\n",
       "3      1  egypt cheiron win tie pemex mexican onshor oil...\n",
       "4      1  jason aldean open snl vega tribut countri sing..."
      ]
     },
     "execution_count": 23,
     "metadata": {},
     "output_type": "execute_result"
    }
   ],
   "source": [
    "data.head()"
   ]
  },
  {
   "cell_type": "code",
   "execution_count": 24,
   "id": "48e3aab9",
   "metadata": {},
   "outputs": [],
   "source": [
    "X = data['News']\n",
    "y = data['Label']"
   ]
  },
  {
   "cell_type": "code",
   "execution_count": 31,
   "id": "9741f20b",
   "metadata": {},
   "outputs": [],
   "source": [
    "X_train,X_test,y_train,y_test = train_test_split(X,y,test_size=0.25)"
   ]
  },
  {
   "cell_type": "code",
   "execution_count": 32,
   "id": "72d5b9f6",
   "metadata": {},
   "outputs": [],
   "source": [
    "vectorization = TfidfVectorizer() \n",
    "xv_train = vectorization.fit_transform(X_train)\n",
    "xv_test = vectorization.transform(X_test)"
   ]
  },
  {
   "cell_type": "code",
   "execution_count": 33,
   "id": "6a52a5dc",
   "metadata": {},
   "outputs": [
    {
     "data": {
      "text/plain": [
       "1947    learn faster learn faster reader think stori f...\n",
       "723     mr robot season return feverish form cnn mr ro...\n",
       "3755    jet vs brown week preview jet vs brown week pr...\n",
       "230     bali volcano brink erupt first time sinc year ...\n",
       "1151    adirondack histor lodg rough like millionair c...\n",
       "                              ...                        \n",
       "1517    fantasi footbal idp rank week embattl pharmace...\n",
       "3178    veteran ask wors kneel millionair vet neglect ...\n",
       "3093    europ innov univers reuter europ top tech hub ...\n",
       "1610    catalan leader pressur drop independ barcelona...\n",
       "994     fantasi footbal idp rank week warn someth big ...\n",
       "Name: News, Length: 3006, dtype: object"
      ]
     },
     "execution_count": 33,
     "metadata": {},
     "output_type": "execute_result"
    }
   ],
   "source": [
    "X_train"
   ]
  },
  {
   "cell_type": "code",
   "execution_count": 34,
   "id": "fc002636",
   "metadata": {},
   "outputs": [
    {
     "name": "stdout",
     "output_type": "stream",
     "text": [
      "  (0, 22629)\t0.05000157809362559\n",
      "  (0, 5721)\t0.07632521285010137\n",
      "  (0, 4999)\t0.08241031543225946\n",
      "  (0, 5052)\t0.07358837108904148\n",
      "  (0, 17357)\t0.07594608503066917\n",
      "  (0, 1280)\t0.06700951687756117\n",
      "  (0, 1038)\t0.0795168610786423\n",
      "  (0, 24002)\t0.1276854455993943\n",
      "  (0, 9942)\t0.06971869808533003\n",
      "  (0, 21622)\t0.0694899140757261\n",
      "  (0, 21932)\t0.058116901096859415\n",
      "  (0, 14659)\t0.05551662794758385\n",
      "  (0, 19444)\t0.0677367037162603\n",
      "  (0, 979)\t0.08384572456041228\n",
      "  (0, 1306)\t0.19262302559057765\n",
      "  (0, 22056)\t0.12632245291997116\n",
      "  (0, 14230)\t0.12913367919440566\n",
      "  (0, 19745)\t0.06495564897676094\n",
      "  (0, 23313)\t0.08998673156971286\n",
      "  (0, 22263)\t0.11543519829578269\n",
      "  (0, 719)\t0.10576879075286473\n",
      "  (0, 16856)\t0.07840339532918505\n",
      "  (0, 25087)\t0.08342645170841596\n",
      "  (0, 26989)\t0.08261000798510068\n",
      "  (0, 11380)\t0.1444544410698256\n",
      "  (0, 7047)\t0.14305012064942826\n",
      "  (0, 4772)\t0.15945264193855124\n",
      "  (0, 5002)\t0.2888575696472209\n",
      "  (0, 27025)\t0.19500747797517073\n",
      "  (0, 11175)\t0.15936835741880173\n",
      "  (0, 3930)\t0.19079646198684588\n",
      "  (0, 16535)\t0.08823491578844488\n",
      "  (0, 3983)\t0.07506072149276077\n",
      "  (0, 25072)\t0.04269634898759392\n",
      "  (0, 216)\t0.0632858413129216\n",
      "  (0, 8114)\t0.06038397701836022\n",
      "  (0, 23190)\t0.05097890369940423\n",
      "  (0, 24274)\t0.05354782878973482\n",
      "  (0, 19746)\t0.06854202906215241\n",
      "  (0, 8249)\t0.6025047854106257\n",
      "  (0, 13688)\t0.38239309330126403\n"
     ]
    }
   ],
   "source": [
    "print (xv_train[0])"
   ]
  },
  {
   "cell_type": "markdown",
   "id": "575a0fd8",
   "metadata": {},
   "source": [
    "# Model"
   ]
  },
  {
   "cell_type": "code",
   "execution_count": 35,
   "id": "39df1d20",
   "metadata": {},
   "outputs": [
    {
     "name": "stdout",
     "output_type": "stream",
     "text": [
      "Accuracy LR: 0.9730807577268196\n"
     ]
    }
   ],
   "source": [
    "# Logistic Regression\n",
    "\n",
    "LR_model = LogisticRegression()\n",
    "\n",
    "LR_model.fit(xv_train, y_train)\n",
    "\n",
    "lr_y_pred = LR_model.predict(xv_test)\n",
    "\n",
    "score = accuracy_score(y_test, lr_y_pred)\n",
    "\n",
    "print (\"Accuracy LR:\", score)"
   ]
  },
  {
   "cell_type": "code",
   "execution_count": 36,
   "id": "6a14d0f1",
   "metadata": {},
   "outputs": [
    {
     "name": "stdout",
     "output_type": "stream",
     "text": [
      "Accuracy SVM: 0.9760717846460618\n"
     ]
    }
   ],
   "source": [
    "# SVM\n",
    "svm_model = SVC(kernel='linear')\n",
    "svm_model.fit(xv_train, y_train)\n",
    "svm_y_pred = svm_model.predict(xv_test)\n",
    "score = accuracy_score(y_test, svm_y_pred)\n",
    "\n",
    "print (\"Accuracy SVM:\", score)"
   ]
  },
  {
   "cell_type": "code",
   "execution_count": 38,
   "id": "eb157575",
   "metadata": {},
   "outputs": [
    {
     "name": "stdout",
     "output_type": "stream",
     "text": [
      "Accuracy RFC: 0.9621136590229312\n"
     ]
    }
   ],
   "source": [
    "# Random Forest Classifier\n",
    "RFC_model = RandomForestClassifier(random_state = 0)\n",
    "RFC_model.fit(xv_train, y_train)\n",
    "rfc_y_pred = RFC_model.predict(xv_test)\n",
    "\n",
    "score = accuracy_score(y_test, rfc_y_pred)\n",
    "\n",
    "print (\"Accuracy RFC:\", score)"
   ]
  }
 ],
 "metadata": {
  "kernelspec": {
   "display_name": "Python 3 (ipykernel)",
   "language": "python",
   "name": "python3"
  },
  "language_info": {
   "codemirror_mode": {
    "name": "ipython",
    "version": 3
   },
   "file_extension": ".py",
   "mimetype": "text/x-python",
   "name": "python",
   "nbconvert_exporter": "python",
   "pygments_lexer": "ipython3",
   "version": "3.9.13"
  }
 },
 "nbformat": 4,
 "nbformat_minor": 5
}
